{
 "cells": [
  {
   "cell_type": "code",
   "execution_count": 1,
   "metadata": {},
   "outputs": [
    {
     "name": "stdout",
     "output_type": "stream",
     "text": [
      "[100. 250. 220. 100. 230. 220.]\n",
      "[12321. 29241. 11211. 12321.  8736. 10656.]\n",
      "[2 5 4 1 3 0]\n",
      "[0.79664777 0.70984056 0.16573009 0.         0.        ]\n",
      "haha [2 3 4]\n",
      "old_index [2 5 4 1 3 0]\n",
      "new_index [1 3 0]\n",
      "[0. 0.]\n",
      "haha [0 1]\n",
      "old_index [1 3 0]\n",
      "new_index [3 0]\n",
      "[1.]\n",
      "haha []\n",
      "old_index [3 0]\n",
      "new_index []\n"
     ]
    },
    {
     "data": {
      "image/png": "[encoded data removed]",
      "text/plain": [
       "<Figure size 432x288 with 1 Axes>"
      ]
     },
     "metadata": {
      "needs_background": "light"
     },
     "output_type": "display_data"
    }
   ],
   "source": [
    "\"\"\"\n",
    "Created on Mon May  7 21:45:37 2018\n",
    "\n",
    "@author: wangtuo\n",
    "\"\"\"\n",
    "import numpy as np\n",
    "\n",
    "\n",
    "boxes=np.array([[100,100,210,210,0.72],\n",
    "        [250,250,420,420,0.8],\n",
    "        [220,220,320,330,0.92],\n",
    "        [100,100,210,210,0.72],\n",
    "        [230,240,325,330,0.81],\n",
    "        [220,230,315,340,0.9]]) \n",
    "\n",
    "\n",
    "def py_cpu_nms(dets, thresh):\n",
    "    # dets:(m,5)  thresh:scaler\n",
    "    \n",
    "    x1 = dets[:,0]\n",
    "    y1 = dets[:,1]\n",
    "    x2 = dets[:,2]\n",
    "    y2 = dets[:,3]\n",
    "    print(x1)\n",
    "    areas = (y2-y1+1) * (x2-x1+1)\n",
    "    print(areas)\n",
    "    scores = dets[:,4]\n",
    "    keep = []\n",
    "    \n",
    "    index = scores.argsort()[::-1]\n",
    "    print(index)\n",
    "    \n",
    "    while index.size >0:\n",
    "\n",
    "        i = index[0]       # every time the first is the biggst, and add it directly\n",
    "        keep.append(i)\n",
    "        \n",
    "        x11 = np.maximum(x1[i], x1[index[1:]])    # calculate the points of overlap \n",
    "        y11 = np.maximum(y1[i], y1[index[1:]])\n",
    "        x22 = np.minimum(x2[i], x2[index[1:]])\n",
    "        y22 = np.minimum(y2[i], y2[index[1:]])\n",
    "        \n",
    "        w = np.maximum(0, x22-x11+1)    # the weights of overlap\n",
    "        h = np.maximum(0, y22-y11+1)    # the height of overlap\n",
    "       \n",
    "        overlaps = w*h\n",
    "        \n",
    "        ious = overlaps / (areas[i]+areas[index[1:]] - overlaps)\n",
    "        print(ious)\n",
    "        print(\"haha\",np.where(ious<=thresh)[0])\n",
    "        idx = np.where(ious<=thresh)[0]\n",
    "        print(\"old_index\",index)\n",
    "        index = index[idx+1]   # because index start from 1 except it self \n",
    "        print(\"new_index\",index)\n",
    "        \n",
    "    return keep\n",
    "        \n",
    "\n",
    "import matplotlib.pyplot as plt\n",
    "def plot_bbox(dets, c='k'):\n",
    "    \n",
    "    x1 = dets[:,0]\n",
    "    y1 = dets[:,1]\n",
    "    x2 = dets[:,2]\n",
    "    y2 = dets[:,3]\n",
    "    \n",
    "    \n",
    "    plt.plot([x1,x2], [y1,y1], c)\n",
    "    plt.plot([x1,x1], [y1,y2], c)\n",
    "    plt.plot([x1,x2], [y2,y2], c)\n",
    "    plt.plot([x2,x2], [y1,y2], c)\n",
    "    plt.title(\"after nms\")\n",
    "\n",
    "plot_bbox(boxes,'k')   # before nms\n",
    "\n",
    "keep = py_cpu_nms(boxes, thresh=0.7)\n",
    "plot_bbox(boxes[keep], 'r')# after nms"
   ]
  },
  {
   "cell_type": "code",
   "execution_count": null,
   "metadata": {},
   "outputs": [],
   "source": []
  }
 ],
 "metadata": {
  "kernelspec": {
   "display_name": "Python 3",
   "language": "python",
   "name": "python3"
  },
  "language_info": {
   "codemirror_mode": {
    "name": "ipython",
    "version": 3
   },
   "file_extension": ".py",
   "mimetype": "text/x-python",
   "name": "python",
   "nbconvert_exporter": "python",
   "pygments_lexer": "ipython3",
   "version": "3.6.2"
  }
 },
 "nbformat": 4,
 "nbformat_minor": 4
}
