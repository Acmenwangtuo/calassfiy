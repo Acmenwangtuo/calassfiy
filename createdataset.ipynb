{
 "cells": [
  {
   "cell_type": "code",
   "execution_count": 1,
   "metadata": {},
   "outputs": [],
   "source": [
    "import os\n",
    "import shutil"
   ]
  },
  {
   "cell_type": "code",
   "execution_count": 2,
   "metadata": {},
   "outputs": [],
   "source": [
    "def create_dataset(src_path,train_path,val_path,test_path):\n",
    "    whole = os.listdir(src_path)\n",
    "    train = whole[0:int(0.6*(len(whole)))]\n",
    "    val = whole[int(0.6*len(whole)):int(0.8*len(whole))]\n",
    "    test = whole[int(0.8*len(whole)):]\n",
    "    myshutil(train,src_path,train_path)\n",
    "    myshutil(val,src_path,val_path)\n",
    "    myshutil(test,src_path,test_path)"
   ]
  },
  {
   "cell_type": "code",
   "execution_count": 3,
   "metadata": {},
   "outputs": [],
   "source": [
    "def myshutil(images,src_path,des_path):\n",
    "    for image in images:\n",
    "        shutil.copy(os.path.join(src_path,image),os.path.join(des_path,image))"
   ]
  },
  {
   "cell_type": "code",
   "execution_count": 4,
   "metadata": {},
   "outputs": [],
   "source": [
    "def main():\n",
    "#     src_path = '/home/bnc/tool/HistomicsML/yourproject/classify/dataset/res_positive/'\n",
    "#     train_path = '/home/bnc/tool/HistomicsML/yourproject/classify/data/train/tumor/'\n",
    "#     val_path = '/home/bnc/tool/HistomicsML/yourproject/classify/data/validation/tumor/'\n",
    "#     test_path = '/home/bnc/tool/HistomicsML/yourproject/classify/data/test/'\n",
    "    src_path = '/home/bnc/tool/HistomicsML/yourproject/classify/dataset/qitaquyu/'\n",
    "    train_path = '/home/bnc/tool/HistomicsML/yourproject/classify/data/train/nontumor/'\n",
    "    val_path = '/home/bnc/tool/HistomicsML/yourproject/classify/data/validation/nontumor/'\n",
    "    test_path = '/home/bnc/tool/HistomicsML/yourproject/classify/data/test/'\n",
    "    \n",
    "    create_dataset(src_path,train_path,val_path,test_path)"
   ]
  },
  {
   "cell_type": "code",
   "execution_count": 5,
   "metadata": {},
   "outputs": [],
   "source": [
    "if __name__ == '__main__':\n",
    "    main()"
   ]
  }
 ],
 "metadata": {
  "kernelspec": {
   "display_name": "Python 3",
   "language": "python",
   "name": "python3"
  },
  "language_info": {
   "codemirror_mode": {
    "name": "ipython",
    "version": 3
   },
   "file_extension": ".py",
   "mimetype": "text/x-python",
   "name": "python",
   "nbconvert_exporter": "python",
   "pygments_lexer": "ipython3",
   "version": "3.6.2"
  }
 },
 "nbformat": 4,
 "nbformat_minor": 4
}
